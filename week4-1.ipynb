{
 "metadata": {
  "language_info": {
   "codemirror_mode": {
    "name": "ipython",
    "version": 3
   },
   "file_extension": ".py",
   "mimetype": "text/x-python",
   "name": "python",
   "nbconvert_exporter": "python",
   "pygments_lexer": "ipython3",
   "version": 3
  },
  "orig_nbformat": 2,
  "kernelspec": {
   "name": "python_defaultSpec_1595769877061",
   "display_name": "Python 3.7.7 64-bit ('base': conda)"
  }
 },
 "nbformat": 4,
 "nbformat_minor": 2,
 "cells": [
  {
   "cell_type": "code",
   "execution_count": 1,
   "metadata": {},
   "outputs": [],
   "source": [
    "import numpy as np\n",
    "import pandas as pd "
   ]
  },
  {
   "cell_type": "code",
   "execution_count": 2,
   "metadata": {},
   "outputs": [],
   "source": [
    "whisky = pd.read_csv(r\"whisky\\whisky.txt\")\n",
    "whisky['Regions']= pd.read_csv(r\"whisky\\regions.txt\")"
   ]
  },
  {
   "cell_type": "code",
   "execution_count": 8,
   "metadata": {},
   "outputs": [
    {
     "output_type": "execute_result",
     "data": {
      "text/plain": "   RowID Distillery  Body  Sweetness  Smoky  Medicinal  Tobacco  Honey  Spicy  \\\n0      1  Aberfeldy     2          2      2          0        0      2      1   \n1      2   Aberlour     3          3      1          0        0      4      3   \n2      3     AnCnoc     1          3      2          0        0      2      0   \n3      4     Ardbeg     4          1      4          4        0      0      2   \n4      5    Ardmore     2          2      2          0        0      1      1   \n\n   Winey  Nutty  Malty  Fruity  Floral     Postcode   Latitude   Longitude  \\\n0      2      2      2       2       2   \\tPH15 2EB     286580      749680   \n1      2      2      3       3       2   \\tAB38 9PJ     326340      842570   \n2      0      2      2       3       2    \\tAB5 5LI     352960      839320   \n3      0      1      2       1       0   \\tPA42 7EB     141560      646220   \n4      1      2      3       1       1   \\tAB54 4NH     355350      829140   \n\n     Regions  \n0  Highlands  \n1   Speyside  \n2  Highlands  \n3      Islay  \n4  Highlands  ",
      "text/html": "<div>\n<style scoped>\n    .dataframe tbody tr th:only-of-type {\n        vertical-align: middle;\n    }\n\n    .dataframe tbody tr th {\n        vertical-align: top;\n    }\n\n    .dataframe thead th {\n        text-align: right;\n    }\n</style>\n<table border=\"1\" class=\"dataframe\">\n  <thead>\n    <tr style=\"text-align: right;\">\n      <th></th>\n      <th>RowID</th>\n      <th>Distillery</th>\n      <th>Body</th>\n      <th>Sweetness</th>\n      <th>Smoky</th>\n      <th>Medicinal</th>\n      <th>Tobacco</th>\n      <th>Honey</th>\n      <th>Spicy</th>\n      <th>Winey</th>\n      <th>Nutty</th>\n      <th>Malty</th>\n      <th>Fruity</th>\n      <th>Floral</th>\n      <th>Postcode</th>\n      <th>Latitude</th>\n      <th>Longitude</th>\n      <th>Regions</th>\n    </tr>\n  </thead>\n  <tbody>\n    <tr>\n      <th>0</th>\n      <td>1</td>\n      <td>Aberfeldy</td>\n      <td>2</td>\n      <td>2</td>\n      <td>2</td>\n      <td>0</td>\n      <td>0</td>\n      <td>2</td>\n      <td>1</td>\n      <td>2</td>\n      <td>2</td>\n      <td>2</td>\n      <td>2</td>\n      <td>2</td>\n      <td>\\tPH15 2EB</td>\n      <td>286580</td>\n      <td>749680</td>\n      <td>Highlands</td>\n    </tr>\n    <tr>\n      <th>1</th>\n      <td>2</td>\n      <td>Aberlour</td>\n      <td>3</td>\n      <td>3</td>\n      <td>1</td>\n      <td>0</td>\n      <td>0</td>\n      <td>4</td>\n      <td>3</td>\n      <td>2</td>\n      <td>2</td>\n      <td>3</td>\n      <td>3</td>\n      <td>2</td>\n      <td>\\tAB38 9PJ</td>\n      <td>326340</td>\n      <td>842570</td>\n      <td>Speyside</td>\n    </tr>\n    <tr>\n      <th>2</th>\n      <td>3</td>\n      <td>AnCnoc</td>\n      <td>1</td>\n      <td>3</td>\n      <td>2</td>\n      <td>0</td>\n      <td>0</td>\n      <td>2</td>\n      <td>0</td>\n      <td>0</td>\n      <td>2</td>\n      <td>2</td>\n      <td>3</td>\n      <td>2</td>\n      <td>\\tAB5 5LI</td>\n      <td>352960</td>\n      <td>839320</td>\n      <td>Highlands</td>\n    </tr>\n    <tr>\n      <th>3</th>\n      <td>4</td>\n      <td>Ardbeg</td>\n      <td>4</td>\n      <td>1</td>\n      <td>4</td>\n      <td>4</td>\n      <td>0</td>\n      <td>0</td>\n      <td>2</td>\n      <td>0</td>\n      <td>1</td>\n      <td>2</td>\n      <td>1</td>\n      <td>0</td>\n      <td>\\tPA42 7EB</td>\n      <td>141560</td>\n      <td>646220</td>\n      <td>Islay</td>\n    </tr>\n    <tr>\n      <th>4</th>\n      <td>5</td>\n      <td>Ardmore</td>\n      <td>2</td>\n      <td>2</td>\n      <td>2</td>\n      <td>0</td>\n      <td>0</td>\n      <td>1</td>\n      <td>1</td>\n      <td>1</td>\n      <td>2</td>\n      <td>3</td>\n      <td>1</td>\n      <td>1</td>\n      <td>\\tAB54 4NH</td>\n      <td>355350</td>\n      <td>829140</td>\n      <td>Highlands</td>\n    </tr>\n  </tbody>\n</table>\n</div>"
     },
     "metadata": {},
     "execution_count": 8
    }
   ],
   "source": [
    "whisky"
   ]
  },
  {
   "cell_type": "code",
   "execution_count": 9,
   "metadata": {},
   "outputs": [],
   "source": [
    "flavors = whisky.loc[:,\"Body\":\"Floral\"]"
   ]
  },
  {
   "cell_type": "code",
   "execution_count": 10,
   "metadata": {},
   "outputs": [
    {
     "output_type": "execute_result",
     "data": {
      "text/plain": "   Body  Sweetness  Smoky  Medicinal  Tobacco  Honey  Spicy  Winey  Nutty  \\\n0     2          2      2          0        0      2      1      2      2   \n1     3          3      1          0        0      4      3      2      2   \n2     1          3      2          0        0      2      0      0      2   \n3     4          1      4          4        0      0      2      0      1   \n4     2          2      2          0        0      1      1      1      2   \n\n   Malty  Fruity  Floral  \n0      2       2       2  \n1      3       3       2  \n2      2       3       2  \n3      2       1       0  \n4      3       1       1  ",
      "text/html": "<div>\n<style scoped>\n    .dataframe tbody tr th:only-of-type {\n        vertical-align: middle;\n    }\n\n    .dataframe tbody tr th {\n        vertical-align: top;\n    }\n\n    .dataframe thead th {\n        text-align: right;\n    }\n</style>\n<table border=\"1\" class=\"dataframe\">\n  <thead>\n    <tr style=\"text-align: right;\">\n      <th></th>\n      <th>Body</th>\n      <th>Sweetness</th>\n      <th>Smoky</th>\n      <th>Medicinal</th>\n      <th>Tobacco</th>\n      <th>Honey</th>\n      <th>Spicy</th>\n      <th>Winey</th>\n      <th>Nutty</th>\n      <th>Malty</th>\n      <th>Fruity</th>\n      <th>Floral</th>\n    </tr>\n  </thead>\n  <tbody>\n    <tr>\n      <th>0</th>\n      <td>2</td>\n      <td>2</td>\n      <td>2</td>\n      <td>0</td>\n      <td>0</td>\n      <td>2</td>\n      <td>1</td>\n      <td>2</td>\n      <td>2</td>\n      <td>2</td>\n      <td>2</td>\n      <td>2</td>\n    </tr>\n    <tr>\n      <th>1</th>\n      <td>3</td>\n      <td>3</td>\n      <td>1</td>\n      <td>0</td>\n      <td>0</td>\n      <td>4</td>\n      <td>3</td>\n      <td>2</td>\n      <td>2</td>\n      <td>3</td>\n      <td>3</td>\n      <td>2</td>\n    </tr>\n    <tr>\n      <th>2</th>\n      <td>1</td>\n      <td>3</td>\n      <td>2</td>\n      <td>0</td>\n      <td>0</td>\n      <td>2</td>\n      <td>0</td>\n      <td>0</td>\n      <td>2</td>\n      <td>2</td>\n      <td>3</td>\n      <td>2</td>\n    </tr>\n    <tr>\n      <th>3</th>\n      <td>4</td>\n      <td>1</td>\n      <td>4</td>\n      <td>4</td>\n      <td>0</td>\n      <td>0</td>\n      <td>2</td>\n      <td>0</td>\n      <td>1</td>\n      <td>2</td>\n      <td>1</td>\n      <td>0</td>\n    </tr>\n    <tr>\n      <th>4</th>\n      <td>2</td>\n      <td>2</td>\n      <td>2</td>\n      <td>0</td>\n      <td>0</td>\n      <td>1</td>\n      <td>1</td>\n      <td>1</td>\n      <td>2</td>\n      <td>3</td>\n      <td>1</td>\n      <td>1</td>\n    </tr>\n  </tbody>\n</table>\n</div>"
     },
     "metadata": {},
     "execution_count": 10
    }
   ],
   "source": [
    "flavors.head()"
   ]
  },
  {
   "cell_type": "code",
   "execution_count": 11,
   "metadata": {},
   "outputs": [],
   "source": [
    "corr_flavors=pd.DataFrame.corr(flavors)"
   ]
  },
  {
   "cell_type": "code",
   "execution_count": 12,
   "metadata": {},
   "outputs": [
    {
     "output_type": "execute_result",
     "data": {
      "text/plain": "               Body  Sweetness     Smoky  Medicinal   Tobacco     Honey  \\\nBody       1.000000  -0.136518  0.524032   0.354050  0.168718  0.082031   \nSweetness -0.136518   1.000000 -0.405897  -0.392017 -0.147871  0.132558   \nSmoky      0.524032  -0.405897  1.000000   0.686071  0.365501 -0.195318   \nMedicinal  0.354050  -0.392017  0.686071   1.000000  0.425106 -0.396629   \nTobacco    0.168718  -0.147871  0.365501   0.425106  1.000000 -0.275490   \nHoney      0.082031   0.132558 -0.195318  -0.396629 -0.275490  1.000000   \nSpicy      0.188500  -0.054200  0.231745   0.044903  0.054068  0.139563   \nWiney      0.408576   0.115727 -0.028190  -0.202651  0.009097  0.362021   \nNutty      0.126323  -0.032493 -0.023132  -0.113671 -0.117717  0.188492   \nMalty     -0.116859  -0.001516 -0.192875  -0.258959 -0.059347  0.310184   \nFruity    -0.013205   0.019820 -0.312970  -0.330975 -0.235145  0.108822   \nFloral    -0.461203   0.144987 -0.431663  -0.511323 -0.212375  0.183029   \n\n              Spicy     Winey     Nutty     Malty    Fruity    Floral  \nBody       0.188500  0.408576  0.126323 -0.116859 -0.013205 -0.461203  \nSweetness -0.054200  0.115727 -0.032493 -0.001516  0.019820  0.144987  \nSmoky      0.231745 -0.028190 -0.023132 -0.192875 -0.312970 -0.431663  \nMedicinal  0.044903 -0.202651 -0.113671 -0.258959 -0.330975 -0.511323  \nTobacco    0.054068  0.009097 -0.117717 -0.059347 -0.235145 -0.212375  \nHoney      0.139563  0.362021  0.188492  0.310184  0.108822  0.183029  \nSpicy      1.000000  0.092704 -0.042856  0.036303  0.144714  0.034663  \nWiney      0.092704  1.000000  0.198467  0.112368  0.090694 -0.126932  \nNutty     -0.042856  0.198467  1.000000  0.066157  0.071765  0.018302  \nMalty      0.036303  0.112368  0.066157  1.000000  0.207288  0.106309  \nFruity     0.144714  0.090694  0.071765  0.207288  1.000000  0.262336  \nFloral     0.034663 -0.126932  0.018302  0.106309  0.262336  1.000000  ",
      "text/html": "<div>\n<style scoped>\n    .dataframe tbody tr th:only-of-type {\n        vertical-align: middle;\n    }\n\n    .dataframe tbody tr th {\n        vertical-align: top;\n    }\n\n    .dataframe thead th {\n        text-align: right;\n    }\n</style>\n<table border=\"1\" class=\"dataframe\">\n  <thead>\n    <tr style=\"text-align: right;\">\n      <th></th>\n      <th>Body</th>\n      <th>Sweetness</th>\n      <th>Smoky</th>\n      <th>Medicinal</th>\n      <th>Tobacco</th>\n      <th>Honey</th>\n      <th>Spicy</th>\n      <th>Winey</th>\n      <th>Nutty</th>\n      <th>Malty</th>\n      <th>Fruity</th>\n      <th>Floral</th>\n    </tr>\n  </thead>\n  <tbody>\n    <tr>\n      <th>Body</th>\n      <td>1.000000</td>\n      <td>-0.136518</td>\n      <td>0.524032</td>\n      <td>0.354050</td>\n      <td>0.168718</td>\n      <td>0.082031</td>\n      <td>0.188500</td>\n      <td>0.408576</td>\n      <td>0.126323</td>\n      <td>-0.116859</td>\n      <td>-0.013205</td>\n      <td>-0.461203</td>\n    </tr>\n    <tr>\n      <th>Sweetness</th>\n      <td>-0.136518</td>\n      <td>1.000000</td>\n      <td>-0.405897</td>\n      <td>-0.392017</td>\n      <td>-0.147871</td>\n      <td>0.132558</td>\n      <td>-0.054200</td>\n      <td>0.115727</td>\n      <td>-0.032493</td>\n      <td>-0.001516</td>\n      <td>0.019820</td>\n      <td>0.144987</td>\n    </tr>\n    <tr>\n      <th>Smoky</th>\n      <td>0.524032</td>\n      <td>-0.405897</td>\n      <td>1.000000</td>\n      <td>0.686071</td>\n      <td>0.365501</td>\n      <td>-0.195318</td>\n      <td>0.231745</td>\n      <td>-0.028190</td>\n      <td>-0.023132</td>\n      <td>-0.192875</td>\n      <td>-0.312970</td>\n      <td>-0.431663</td>\n    </tr>\n    <tr>\n      <th>Medicinal</th>\n      <td>0.354050</td>\n      <td>-0.392017</td>\n      <td>0.686071</td>\n      <td>1.000000</td>\n      <td>0.425106</td>\n      <td>-0.396629</td>\n      <td>0.044903</td>\n      <td>-0.202651</td>\n      <td>-0.113671</td>\n      <td>-0.258959</td>\n      <td>-0.330975</td>\n      <td>-0.511323</td>\n    </tr>\n    <tr>\n      <th>Tobacco</th>\n      <td>0.168718</td>\n      <td>-0.147871</td>\n      <td>0.365501</td>\n      <td>0.425106</td>\n      <td>1.000000</td>\n      <td>-0.275490</td>\n      <td>0.054068</td>\n      <td>0.009097</td>\n      <td>-0.117717</td>\n      <td>-0.059347</td>\n      <td>-0.235145</td>\n      <td>-0.212375</td>\n    </tr>\n    <tr>\n      <th>Honey</th>\n      <td>0.082031</td>\n      <td>0.132558</td>\n      <td>-0.195318</td>\n      <td>-0.396629</td>\n      <td>-0.275490</td>\n      <td>1.000000</td>\n      <td>0.139563</td>\n      <td>0.362021</td>\n      <td>0.188492</td>\n      <td>0.310184</td>\n      <td>0.108822</td>\n      <td>0.183029</td>\n    </tr>\n    <tr>\n      <th>Spicy</th>\n      <td>0.188500</td>\n      <td>-0.054200</td>\n      <td>0.231745</td>\n      <td>0.044903</td>\n      <td>0.054068</td>\n      <td>0.139563</td>\n      <td>1.000000</td>\n      <td>0.092704</td>\n      <td>-0.042856</td>\n      <td>0.036303</td>\n      <td>0.144714</td>\n      <td>0.034663</td>\n    </tr>\n    <tr>\n      <th>Winey</th>\n      <td>0.408576</td>\n      <td>0.115727</td>\n      <td>-0.028190</td>\n      <td>-0.202651</td>\n      <td>0.009097</td>\n      <td>0.362021</td>\n      <td>0.092704</td>\n      <td>1.000000</td>\n      <td>0.198467</td>\n      <td>0.112368</td>\n      <td>0.090694</td>\n      <td>-0.126932</td>\n    </tr>\n    <tr>\n      <th>Nutty</th>\n      <td>0.126323</td>\n      <td>-0.032493</td>\n      <td>-0.023132</td>\n      <td>-0.113671</td>\n      <td>-0.117717</td>\n      <td>0.188492</td>\n      <td>-0.042856</td>\n      <td>0.198467</td>\n      <td>1.000000</td>\n      <td>0.066157</td>\n      <td>0.071765</td>\n      <td>0.018302</td>\n    </tr>\n    <tr>\n      <th>Malty</th>\n      <td>-0.116859</td>\n      <td>-0.001516</td>\n      <td>-0.192875</td>\n      <td>-0.258959</td>\n      <td>-0.059347</td>\n      <td>0.310184</td>\n      <td>0.036303</td>\n      <td>0.112368</td>\n      <td>0.066157</td>\n      <td>1.000000</td>\n      <td>0.207288</td>\n      <td>0.106309</td>\n    </tr>\n    <tr>\n      <th>Fruity</th>\n      <td>-0.013205</td>\n      <td>0.019820</td>\n      <td>-0.312970</td>\n      <td>-0.330975</td>\n      <td>-0.235145</td>\n      <td>0.108822</td>\n      <td>0.144714</td>\n      <td>0.090694</td>\n      <td>0.071765</td>\n      <td>0.207288</td>\n      <td>1.000000</td>\n      <td>0.262336</td>\n    </tr>\n    <tr>\n      <th>Floral</th>\n      <td>-0.461203</td>\n      <td>0.144987</td>\n      <td>-0.431663</td>\n      <td>-0.511323</td>\n      <td>-0.212375</td>\n      <td>0.183029</td>\n      <td>0.034663</td>\n      <td>-0.126932</td>\n      <td>0.018302</td>\n      <td>0.106309</td>\n      <td>0.262336</td>\n      <td>1.000000</td>\n    </tr>\n  </tbody>\n</table>\n</div>"
     },
     "metadata": {},
     "execution_count": 12
    }
   ],
   "source": [
    "corr_flavors"
   ]
  },
  {
   "cell_type": "code",
   "execution_count": 17,
   "metadata": {},
   "outputs": [
    {
     "output_type": "execute_result",
     "data": {
      "text/plain": "4"
     },
     "metadata": {},
     "execution_count": 17
    }
   ],
   "source": [
    "data = pd.Series([1,2,3,4])\n",
    "data = data.iloc[[3,0,1,2]]\n",
    "data = data.reset_index(drop=True)\n",
    "data[0]"
   ]
  },
  {
   "cell_type": "code",
   "execution_count": null,
   "metadata": {},
   "outputs": [],
   "source": []
  }
 ]
}